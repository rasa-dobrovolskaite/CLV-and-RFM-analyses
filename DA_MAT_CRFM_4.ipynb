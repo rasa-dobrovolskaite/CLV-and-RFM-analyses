{
  "nbformat": 4,
  "nbformat_minor": 0,
  "metadata": {
    "colab": {
      "provenance": []
    },
    "kernelspec": {
      "name": "python3",
      "display_name": "Python 3"
    },
    "language_info": {
      "name": "python"
    }
  },
  "cells": [
    {
      "cell_type": "markdown",
      "source": [
        "## The task\n",
        "You got a follow up task from your manager as he read some article that calculating CLV using Shopify’s formula is too simplistic. He has heard somewhere that using cohorts produces more reliable and actionable results. Once again please use [turing_data_analytics.raw_events](https://console.cloud.google.com/bigquery?authuser=3&project=tc-da-1&ws=!1m14!1m3!8m2!1s756497109418!2s1b8fa7cb3d73401f81fea1591fa615a7!1m4!4m3!1stc-da-1!2sturing_data_analytics!3sstackoverflow_posts!1m4!4m3!1stc-da-1!2sturing_data_analytics!3sraw_events&d=turing_data_analytics&p=tc-da-1&t=raw_events&page=table) table to answer follow up questions from your manager.\n",
        "\n",
        "TIP: imagine that current week is 2021-01-24 (the last weekly cohort you have in your dataset).\n",
        "\n",
        "Additionally, he identified 2 problems with your previous analysis:\n",
        "1. You included only customers who purchased something, while marketing is counting all user registrations that they manage to bring to your ecommerce site. Thus, you need to adjust your calculations to include all users who have been on your website, not only the one who purchased something.\n",
        "2. Your average customer does not tend to stay with your ecommerce site for too long. He wants to see weekly picture using cohorts. He expects customers to stay no longer than 12 weeks with your ecommerce site.\n",
        "\n",
        "As the first step you should write 1 or 2 queries to pull data of weekly revenue divided by registrations. Since in this particular site there is no concept of registration, we will simply use the first visit to our website as registration date (registration cohort). Do not forget to use `user_pseudo_id` to distinguish between users. Then divide revenue in consequent weeks by the number of weekly registration numbers. Once you apply conditional formatting to your data, the end result should look something like this:\n",
        "\n",
        "<div><img src=\"https://i.imgur.com/TPWDMq6.png\" /></div>\n",
        "\n",
        "\n",
        "Next you will produce the same chart, but the revenue / registrations for a particular week cohort will be expressed as a cumulative sum. For this you simply need to add previous week revenue to current week’s revenue. Down below you will calculate averages for all week numbers (weeks since registration). Down below that you will calculate percentage growth, which will be based on those average numbers:\n",
        "\n",
        "<div><img src=\"https://i.imgur.com/KcVBI7s.png\" /></div>\n",
        "\n",
        "Note: for cumulative weekly averages calculation use first table averages\n",
        "\n",
        "Basically, the chart above gives you growth of revenue by registered users in cohort for n weeks after registration. While numbers below summarize those values in monetary terms (red marked numbers) and percentage terms (green marked numbers). This provides you with a coherent view of how much revenue you can expect to grow based on your historical data.\n",
        "\n",
        "Next, we will focus on the future and try to predict the missing data. In this case missing data is the revenue we should expect from later acquired user cohorts. For example, for users whose first session happened on 2021-01-24 week we have only their first week revenue which is 0.19USD per user who started their first session in this week. Though we are not sure what will happen in the next 12 weeks.\n",
        "\n",
        "For this we will simply use previously calculated Cumulative growth % (red marked area in chart aboove) and predict all 12 future weeks values (ex. for this cohort we can calculate expected revenue for week 1 as 0.19USD x (1 + 23.29%) = 0.24USD, for week 2 as 0.24USD x (1 + 12.26%) = 0.27USD). Using Avg. cumulative growth for each week we can calculate that based on 0.19USD initial value we can expect 0.35USD as revenue on week 12. Provide a chart which calculates these numbers for all future weeks (up till week 12).\n",
        "\n",
        "See example chart below which should show the following numbers for all weekly user cohorts:\n",
        "\n",
        "<div><img src=\"https://i.imgur.com/t2ujd2P.png\" /></div>\n",
        "\n",
        "The chart above is our final result. You should calculate the average of cumulative revenue for 12th week for all users who have been on your website. This not only provide better estimate of CLV for all your users who have been on your website (including the ones who did not purchase anything) but also allows you to see trends for weekly cohorts. Have a look at the conditional formatting you added to all 3 charts and be prepared to answer follow up questions.\n",
        "\n",
        "\n",
        "## Evaluation criteria for Graded project submission:\n",
        "- SQL, correct columns identified to make analysis.\n",
        "- SQL, correctly calculated main metrics: revenue, orders, customers.\n",
        "- SQL, correctly calculated user counts by weekly cohorts.\n",
        "- Google sheets, visualisation follows examples above, at least 3 different tables with conditional formatting applied are provided.\n",
        "- Analysis, findings and calculations are correct and main trends identified.\n",
        "- Analytical approach to the problem\n",
        "\n",
        "<br>\n",
        "\n",
        "During a task review, you may get asked questions that test your understanding of covered topics.\n",
        "\n",
        "**Sample questions**:\n",
        "- Does including all customers (not only the ones who purchased something) influence calculation of CLV?\n",
        "- Is your previously calculated CLV (using Shopify formula) still accurate?\n",
        "- How does cohort analysis help you understand what revenue you can expect in the future?\n",
        "- If we knew that our business Take Rate (% of revenue we can actually treat as profit) is only 10%, would you use this percentage estimating Lifetime value of the customer? Could you compare it against customer acquisition costs provided by marketing?\n",
        "- What caveats can you expect from such an approach?\n",
        "\n",
        "## Submission\n",
        "Upload solutions and **.sql** files to the GitHub repository, for both this and Customer Segmentation graded task. Prepare to present both projects during your project review.\n",
        "\n"
      ],
      "metadata": {
        "id": "iKEbt88A9BZ9"
      }
    }
  ]
}